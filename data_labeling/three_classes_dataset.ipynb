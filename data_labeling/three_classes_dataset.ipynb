{
  "nbformat": 4,
  "nbformat_minor": 0,
  "metadata": {
    "colab": {
      "name": "three_classes_dataset.ipynb",
      "provenance": [],
      "collapsed_sections": [],
      "include_colab_link": true
    },
    "kernelspec": {
      "name": "python3",
      "display_name": "Python 3"
    }
  },
  "cells": [
    {
      "cell_type": "markdown",
      "metadata": {
        "id": "view-in-github",
        "colab_type": "text"
      },
      "source": [
        "<a href=\"https://colab.research.google.com/github/dcafarelli/CMT-ABAW2020-EXPR/blob/main/data_labeling/three_classes_dataset.ipynb\" target=\"_parent\"><img src=\"https://colab.research.google.com/assets/colab-badge.svg\" alt=\"Open In Colab\"/></a>"
      ]
    },
    {
      "cell_type": "markdown",
      "metadata": {
        "id": "ohg4Qi-0nXM0"
      },
      "source": [
        "Group labels in 3 different classes\n",
        "- Neutral = 0\n",
        "- Positive (happiness) = 1\n",
        "- Negative (anger, fear, sadness, disgust) = 2"
      ]
    },
    {
      "cell_type": "code",
      "metadata": {
        "id": "WmGkebbUkm1y"
      },
      "source": [
        "import pickle\n",
        "import os\n",
        "import numpy as np\n",
        "from matplotlib import pyplot as plt\n",
        "import matplotlib\n",
        "import pandas as pd"
      ],
      "execution_count": null,
      "outputs": []
    },
    {
      "cell_type": "code",
      "metadata": {
        "id": "JLAxL_NuSlcx"
      },
      "source": [
        "new_classes = ('Neutral', 'Positive', 'Negative')"
      ],
      "execution_count": null,
      "outputs": []
    },
    {
      "cell_type": "markdown",
      "metadata": {
        "id": "xFetdDGUpbnb"
      },
      "source": [
        "# TRAINING SET PART"
      ]
    },
    {
      "cell_type": "code",
      "metadata": {
        "id": "UySUWPMFG5_D"
      },
      "source": [
        "pkl_path = '/annotations/aff_wild_expW_train_set.pkl'"
      ],
      "execution_count": null,
      "outputs": []
    },
    {
      "cell_type": "code",
      "metadata": {
        "id": "HNxPTo_YHa4v"
      },
      "source": [
        "original_annotations = pd.read_pickle(pkl_path)"
      ],
      "execution_count": null,
      "outputs": []
    },
    {
      "cell_type": "code",
      "metadata": {
        "id": "4z5j62rqIA8y"
      },
      "source": [
        "#remove the surprise class\n",
        "no_surprise = pd.DataFrame()\n",
        "\n",
        "no_surprise = original_annotations[original_annotations.label != 6]"
      ],
      "execution_count": null,
      "outputs": []
    },
    {
      "cell_type": "code",
      "metadata": {
        "id": "n7Cyf3XmJhOZ"
      },
      "source": [
        "classes = ('Neutral', 'Anger', 'Disgust', 'Fear', 'Happiness', 'Sadness')"
      ],
      "execution_count": null,
      "outputs": []
    },
    {
      "cell_type": "code",
      "metadata": {
        "colab": {
          "base_uri": "https://localhost:8080/",
          "height": 282
        },
        "id": "PH9ZzHpZJXiZ",
        "outputId": "af36886c-8a46-461b-e2b6-246fa17ce14d"
      },
      "source": [
        "print('Distribution of classes:')\n",
        "fig, ax = plt.subplots()\n",
        "_, counts = np.unique(no_surprise['label'], return_counts=True)\n",
        "ax.bar(classes, counts)\n",
        "ax.set_xticks(classes)\n",
        "plt.show()"
      ],
      "execution_count": null,
      "outputs": [
        {
          "output_type": "stream",
          "text": [
            "Distribution of classes:\n"
          ],
          "name": "stdout"
        },
        {
          "output_type": "display_data",
          "data": {
            "image/png": "[encoded data removed]",
            "text/plain": [
              "<Figure size 432x288 with 1 Axes>"
            ]
          },
          "metadata": {
            "tags": [],
            "needs_background": "light"
          }
        }
      ]
    },
    {
      "cell_type": "code",
      "metadata": {
        "id": "ew92J1U0Msvh"
      },
      "source": [
        "#change labels value\n",
        "no_surprise = no_surprise.copy()\n",
        "no_surprise.loc[no_surprise.label == 1, 'label'] = 2\n",
        "no_surprise.loc[no_surprise.label == 4, 'label'] = 1"
      ],
      "execution_count": null,
      "outputs": []
    },
    {
      "cell_type": "code",
      "metadata": {
        "colab": {
          "base_uri": "https://localhost:8080/",
          "height": 282
        },
        "id": "kd6IIsTcStDq",
        "outputId": "5ba776e9-d2be-4af8-a0a6-2fa44e84e0da"
      },
      "source": [
        "print('Distribution of classes:')\n",
        "fig, ax = plt.subplots()\n",
        "_, counts = np.unique(no_surprise['label'], return_counts=True)\n",
        "ax.bar(new_classes, counts)\n",
        "ax.set_xticks(new_classes)\n",
        "plt.show()"
      ],
      "execution_count": null,
      "outputs": [
        {
          "output_type": "stream",
          "text": [
            "Distribution of classes:\n"
          ],
          "name": "stdout"
        },
        {
          "output_type": "display_data",
          "data": {
            "image/png": "[encoded data removed]",
            "text/plain": [
              "<Figure size 432x288 with 1 Axes>"
            ]
          },
          "metadata": {
            "tags": [],
            "needs_background": "light"
          }
        }
      ]
    },
    {
      "cell_type": "code",
      "metadata": {
        "colab": {
          "base_uri": "https://localhost:8080/"
        },
        "id": "jQ5zLitEThRR",
        "outputId": "680847ba-11b8-4007-f84f-edd4f616ca60"
      },
      "source": [
        "save_path = os.path.join('/annotations', 'three_classes_label.pkl')\n",
        "print(save_path)\n",
        "no_surprise.to_pickle(save_path)"
      ],
      "execution_count": null,
      "outputs": [
        {
          "output_type": "stream",
          "text": [
            "/content/gdrive/My Drive/TESI/FER/AffWild2/annotations/three_classes_label.pkl\n"
          ],
          "name": "stdout"
        }
      ]
    },
    {
      "cell_type": "markdown",
      "metadata": {
        "id": "lymZ2sqGXhnJ"
      },
      "source": [
        "**Balance the new dataset**\n",
        "\n",
        "This section code randomly removes samples from the new dataset for balancing purpose"
      ]
    },
    {
      "cell_type": "code",
      "metadata": {
        "id": "iXNPbgjxOx3i"
      },
      "source": [
        "#Make the samples all the same length in order to balance the dataset\n",
        "newtask_train_set = pd.read_pickle('/annotations/three_classes_label.pkl')"
      ],
      "execution_count": null,
      "outputs": []
    },
    {
      "cell_type": "code",
      "metadata": {
        "id": "bWfu9ZlKPtzk"
      },
      "source": [
        "c0 = newtask_train_set[newtask_train_set.label.eq(0)].sample(162510) #grab samples random from class 0"
      ],
      "execution_count": null,
      "outputs": []
    },
    {
      "cell_type": "code",
      "metadata": {
        "id": "i_rIXErKRysk"
      },
      "source": [
        "c1 = newtask_train_set[newtask_train_set.label.eq(1)].sample(162510) #grab samples random from class 1"
      ],
      "execution_count": null,
      "outputs": []
    },
    {
      "cell_type": "code",
      "metadata": {
        "id": "1VpC-KxXSUeb"
      },
      "source": [
        "c2 = newtask_train_set[newtask_train_set.label.eq(2)]"
      ],
      "execution_count": null,
      "outputs": []
    },
    {
      "cell_type": "code",
      "metadata": {
        "id": "VifRN5MBSX4B"
      },
      "source": [
        "balance_newtask = pd.concat([c0, c1, c2])"
      ],
      "execution_count": null,
      "outputs": []
    },
    {
      "cell_type": "code",
      "metadata": {
        "id": "Y69Ktp9RVDKG"
      },
      "source": [
        "#balance_newtask = balance_newtask.reset_index()\n",
        "balance_newtask = balance_newtask.drop(['index'], axis = 1)"
      ],
      "execution_count": null,
      "outputs": []
    },
    {
      "cell_type": "code",
      "metadata": {
        "id": "jqivr0sJW55Q"
      },
      "source": [
        "balance_newtask"
      ],
      "execution_count": null,
      "outputs": []
    },
    {
      "cell_type": "code",
      "metadata": {
        "colab": {
          "base_uri": "https://localhost:8080/"
        },
        "id": "Ulwm5LzgXD_4",
        "outputId": "093a2e69-4c81-4ff2-e0a6-c8009837ba34"
      },
      "source": [
        "balance_newtask['label'].value_counts()"
      ],
      "execution_count": null,
      "outputs": [
        {
          "output_type": "execute_result",
          "data": {
            "text/plain": [
              "2    162510\n",
              "1    162510\n",
              "0    162510\n",
              "Name: label, dtype: int64"
            ]
          },
          "metadata": {
            "tags": []
          },
          "execution_count": 49
        }
      ]
    },
    {
      "cell_type": "code",
      "metadata": {
        "colab": {
          "base_uri": "https://localhost:8080/",
          "height": 282
        },
        "id": "BwLgjt-jXMSQ",
        "outputId": "3794decf-0578-4a2d-e3a7-e2bbda738a18"
      },
      "source": [
        "print('Distribution of classes:')\n",
        "fig, ax = plt.subplots()\n",
        "_, counts = np.unique(balance_newtask['label'], return_counts=True)\n",
        "ax.bar(new_classes, counts)\n",
        "ax.set_xticks(new_classes)\n",
        "plt.show()"
      ],
      "execution_count": null,
      "outputs": [
        {
          "output_type": "stream",
          "text": [
            "Distribution of classes:\n"
          ],
          "name": "stdout"
        },
        {
          "output_type": "display_data",
          "data": {
            "image/png": "[encoded data removed]",
            "text/plain": [
              "<Figure size 432x288 with 1 Axes>"
            ]
          },
          "metadata": {
            "tags": [],
            "needs_background": "light"
          }
        }
      ]
    },
    {
      "cell_type": "code",
      "metadata": {
        "colab": {
          "base_uri": "https://localhost:8080/"
        },
        "id": "ENRaCrr5XV0h",
        "outputId": "d866a6a0-490b-4a51-ea46-11fd7ba323ff"
      },
      "source": [
        "save_path = os.path.join('/content/gdrive/My Drive/TESI/FER/AffWild2/annotations', 'three_classes_balanced.pkl')\n",
        "print(save_path)\n",
        "balance_newtask.to_pickle(save_path)"
      ],
      "execution_count": null,
      "outputs": [
        {
          "output_type": "stream",
          "text": [
            "/content/gdrive/My Drive/TESI/FER/AffWild2/annotations/three_classes_balanced.pkl\n"
          ],
          "name": "stdout"
        }
      ]
    },
    {
      "cell_type": "markdown",
      "metadata": {
        "id": "C9vQTn6ARrJv"
      },
      "source": [
        "# VALIDATION SET PART"
      ]
    },
    {
      "cell_type": "code",
      "metadata": {
        "id": "kCz9lrCdVAFq"
      },
      "source": [
        "val_set_original = pd.read_pickle('/annotations/val_set.pkl')"
      ],
      "execution_count": null,
      "outputs": []
    },
    {
      "cell_type": "code",
      "metadata": {
        "id": "9BPCGIXaVxID"
      },
      "source": [
        "#remove the surprise class\n",
        "no_surprise_val = pd.DataFrame()\n",
        "\n",
        "no_surprise_val = val_set_original[val_set_original.label != 6]"
      ],
      "execution_count": null,
      "outputs": []
    },
    {
      "cell_type": "code",
      "metadata": {
        "id": "4fZNVZknWCHN"
      },
      "source": [
        "no_surprise_val = no_surprise_val.copy()\n",
        "no_surprise_val.loc[no_surprise_val.label == 1, 'label'] = 2\n",
        "no_surprise_val.loc[no_surprise_val.label == 4, 'label'] = 1"
      ],
      "execution_count": null,
      "outputs": []
    },
    {
      "cell_type": "code",
      "metadata": {
        "colab": {
          "base_uri": "https://localhost:8080/"
        },
        "id": "m7oFeCphWUTb",
        "outputId": "a76dc3d8-2e7f-4b4b-9c22-caf0ea83e957"
      },
      "source": [
        "no_surprise_val['label'].value_counts()"
      ],
      "execution_count": null,
      "outputs": [
        {
          "output_type": "execute_result",
          "data": {
            "text/plain": [
              "0    181261\n",
              "2     55876\n",
              "1     50360\n",
              "Name: label, dtype: int64"
            ]
          },
          "metadata": {
            "tags": []
          },
          "execution_count": 57
        }
      ]
    },
    {
      "cell_type": "code",
      "metadata": {
        "colab": {
          "base_uri": "https://localhost:8080/"
        },
        "id": "up9eqJ8tX7gZ",
        "outputId": "397de566-7d53-4ad8-e0f6-68f3704765ed"
      },
      "source": [
        "save_path = os.path.join('/annotations', 'three_classes_val_label.pkl')\n",
        "print(save_path)\n",
        "no_surprise_val.to_pickle(save_path)"
      ],
      "execution_count": null,
      "outputs": [
        {
          "output_type": "stream",
          "text": [
            "/content/gdrive/My Drive/TESI/FER/AffWild2/annotations/three_classes_val_label.pkl\n"
          ],
          "name": "stdout"
        }
      ]
    },
    {
      "cell_type": "code",
      "metadata": {
        "id": "6aeOtxJbYBTE"
      },
      "source": [
        "df = pd.read_pickle(save_path)"
      ],
      "execution_count": null,
      "outputs": []
    },
    {
      "cell_type": "code",
      "metadata": {
        "colab": {
          "base_uri": "https://localhost:8080/",
          "height": 282
        },
        "id": "ld3nLEQ1YIZc",
        "outputId": "361f7701-422a-4b70-8501-ed688b8f3bdf"
      },
      "source": [
        "print('Distribution of classes:')\n",
        "fig, ax = plt.subplots()\n",
        "_, counts = np.unique(df['label'], return_counts=True)\n",
        "ax.bar(new_classes, counts)\n",
        "ax.set_xticks(new_classes)\n",
        "plt.show()"
      ],
      "execution_count": null,
      "outputs": [
        {
          "output_type": "stream",
          "text": [
            "Distribution of classes:\n"
          ],
          "name": "stdout"
        },
        {
          "output_type": "display_data",
          "data": {
            "image/png": "[encoded data removed]",
            "text/plain": [
              "<Figure size 432x288 with 1 Axes>"
            ]
          },
          "metadata": {
            "tags": [],
            "needs_background": "light"
          }
        }
      ]
    }
  ]
}