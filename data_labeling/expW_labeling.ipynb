{
  "nbformat": 4,
  "nbformat_minor": 0,
  "metadata": {
    "kernelspec": {
      "name": "python3",
      "display_name": "Python 3"
    },
    "colab": {
      "name": "expW_labeling.ipynb",
      "provenance": [],
      "collapsed_sections": [],
      "include_colab_link": true
    }
  },
  "cells": [
    {
      "cell_type": "markdown",
      "metadata": {
        "id": "view-in-github",
        "colab_type": "text"
      },
      "source": [
        "<a href=\"https://colab.research.google.com/github/dcafarelli/CMT-ABAW2020-EXPR/blob/main/data_labeling/expW_labeling.ipynb\" target=\"_parent\"><img src=\"https://colab.research.google.com/assets/colab-badge.svg\" alt=\"Open In Colab\"/></a>"
      ]
    },
    {
      "cell_type": "code",
      "metadata": {
        "id": "mNtFFyAoyWTS"
      },
      "source": [
        "import pickle\n",
        "import os\n",
        "import numpy as np\n",
        "from matplotlib import pyplot as plt\n",
        "import matplotlib\n",
        "import glob\n",
        "import pandas as pd\n",
        "from PIL import Image\n",
        "from tqdm import tqdm"
      ],
      "execution_count": null,
      "outputs": []
    },
    {
      "cell_type": "code",
      "metadata": {
        "id": "Fprr5UhFyWTb"
      },
      "source": [
        "classes = ('Neutral', 'Anger', 'Disgust', 'Fear', 'Happin.', 'Sadness', 'Surprise')\n",
        "plot_Expr_list = [6, 0, 1, 2, 3, 4, 5]\n",
        "ExpW_to_aff_wild2 = [1, 2, 3, 4, 5, 6, 0]"
      ],
      "execution_count": null,
      "outputs": []
    },
    {
      "cell_type": "code",
      "metadata": {
        "id": "D6vQd5e6yWTm"
      },
      "source": [
        "path_origin = '/EXPW DataSet/origin' "
      ],
      "execution_count": null,
      "outputs": []
    },
    {
      "cell_type": "code",
      "metadata": {
        "id": "M9jmrYymyWTv"
      },
      "source": [
        "lst_file_path = '/expW/label.lst'"
      ],
      "execution_count": null,
      "outputs": []
    },
    {
      "cell_type": "code",
      "metadata": {
        "id": "bGUeML__yWT2"
      },
      "source": [
        "cropped_path = '/EXPW DataSet/cropped_expW'"
      ],
      "execution_count": null,
      "outputs": []
    },
    {
      "cell_type": "code",
      "metadata": {
        "id": "T3l086dgyWT8"
      },
      "source": [
        "def read_lst(lst_file):\n",
        "    with open(lst_file, 'r') as f:\n",
        "        lines = f.readlines()\n",
        "    lines = [l.strip() for l in lines]\n",
        "    data = {'name': [] , 'face_id': [] , 'ymin':[] , 'xmin':[], 'xmax': [] , 'ymax':[], 'confidence':[], 'emotion':[]}\n",
        "    for l in lines:\n",
        "        l = l.split(\" \")\n",
        "        data['name'].append(l[0])\n",
        "        data['face_id'].append(int(l[1]))\n",
        "        data['ymin'].append(int(l[2]))\n",
        "        data['xmin'].append(int(l[3]))\n",
        "        data['xmax'].append(int(l[4]))\n",
        "        data['ymax'].append(int(l[5]))\n",
        "        data['confidence'].append(float(l[6]))\n",
        "        data['emotion'].append(int(l[7]))\n",
        "    df = pd.DataFrame.from_dict(data)\n",
        "    return df"
      ],
      "execution_count": null,
      "outputs": []
    },
    {
      "cell_type": "code",
      "metadata": {
        "id": "ZESThWKwyWUA"
      },
      "source": [
        "expW_df = read_lst(lst_file_path)"
      ],
      "execution_count": null,
      "outputs": []
    },
    {
      "cell_type": "code",
      "metadata": {
        "id": "DqtnQJasyWUE"
      },
      "source": [
        "expW_df"
      ],
      "execution_count": null,
      "outputs": []
    },
    {
      "cell_type": "code",
      "metadata": {
        "id": "5Ocauq7WyWUL",
        "colab": {
          "base_uri": "https://localhost:8080/"
        },
        "outputId": "1d71ef01-3d81-403e-a6ea-e2e2214b119c"
      },
      "source": [
        "paths = []\n",
        "labels = []\n",
        "data_file = {}\n",
        "\n",
        "for i in tqdm(range(len(expW_df)), total = len(expW_df)):\n",
        "    line = expW_df.iloc[i]\n",
        "    path = os.path.join(path_origin, line['name'])\n",
        "    df_path = os.path.join('/cropped_expW', line['name'])\n",
        "    if os.path.exists(path):\n",
        "        bbox = line[['xmin', 'ymin', 'xmax', 'ymax']].values\n",
        "        img = Image.open(path).convert(\"RGB\")\n",
        "        face = img.crop(tuple(bbox))\n",
        "        save_path = os.path.join(cropped_path, line['name'])\n",
        "        face.save(save_path)\n",
        "        \n",
        "    paths.append(df_path)\n",
        "    labels.append(line['emotion'])\n",
        "\n",
        "data_file['path'] = paths\n",
        "data_file['label'] = np.array(labels)\n",
        "\n",
        "df = pd.DataFrame.from_dict(data_file)   "
      ],
      "execution_count": null,
      "outputs": [
        {
          "output_type": "stream",
          "text": [
            "100%|██████████| 91793/91793 [00:15<00:00, 6035.31it/s]\n"
          ],
          "name": "stderr"
        }
      ]
    },
    {
      "cell_type": "code",
      "metadata": {
        "id": "pK4Ozn7_yWUT"
      },
      "source": [
        "df['label'] = np.array([ExpW_to_aff_wild2[x] for x in df['label']])"
      ],
      "execution_count": null,
      "outputs": []
    },
    {
      "cell_type": "code",
      "metadata": {
        "id": "P7nFWKgIyWUY"
      },
      "source": [
        "print('Distribution of classes:')\n",
        "fig, ax = plt.subplots()\n",
        "_, counts = np.unique(df['label'], return_counts=True)\n",
        "ax.bar(classes, counts)\n",
        "ax.set_xticks(classes)\n",
        "plt.show()"
      ],
      "execution_count": null,
      "outputs": []
    },
    {
      "cell_type": "code",
      "metadata": {
        "id": "BTGtgsL5yWUa"
      },
      "source": [
        "aff_wild_2 = pd.read_pickle('/annotations/train_set.pkl') #path to train set dataframe"
      ],
      "execution_count": null,
      "outputs": []
    },
    {
      "cell_type": "code",
      "metadata": {
        "id": "jxV0p3LY0jsK"
      },
      "source": [
        "aff_wid_expW_train_set = aff_wild_2.append(df) #merging the two labeled datasets"
      ],
      "execution_count": null,
      "outputs": []
    },
    {
      "cell_type": "code",
      "metadata": {
        "id": "tpe8fQCa1Wzf"
      },
      "source": [
        "print('Distribution of merged dataset classes:')\n",
        "fig, ax = plt.subplots()\n",
        "_, counts = np.unique(aff_wid_expW_train_set['label'], return_counts=True)\n",
        "ax.bar(classes, counts)\n",
        "ax.set_xticks(classes)\n",
        "plt.show()"
      ],
      "execution_count": null,
      "outputs": []
    },
    {
      "cell_type": "code",
      "metadata": {
        "id": "9trNdcMU1fCv"
      },
      "source": [
        "aff_wid_expW_train_set"
      ],
      "execution_count": null,
      "outputs": []
    },
    {
      "cell_type": "code",
      "metadata": {
        "id": "VQVQjJ541liq",
        "colab": {
          "base_uri": "https://localhost:8080/"
        },
        "outputId": "14975992-1b99-49f3-9e02-6939870d603a"
      },
      "source": [
        "save_path = os.path.join('/annotations', 'aff_wild_expW_train_set.pkl')\n",
        "print(save_path)\n",
        "aff_wid_expW_train_set.to_pickle(save_path)"
      ],
      "execution_count": null,
      "outputs": [
        {
          "output_type": "stream",
          "text": [
            "/content/gdrive/My Drive/TESI/FER/AffWild2/annotations/aff_wild_expW_train_set.pkl\n"
          ],
          "name": "stdout"
        }
      ]
    },
    {
      "cell_type": "code",
      "metadata": {
        "id": "lReYkjx213pu"
      },
      "source": [
        "merged_ds = pd.read_pickle('/annotations/aff_wild_expW_train_set.pkl')"
      ],
      "execution_count": null,
      "outputs": []
    },
    {
      "cell_type": "code",
      "metadata": {
        "id": "O0o4myYSrzZq"
      },
      "source": [
        "merged_ds['label'].value_counts()"
      ],
      "execution_count": null,
      "outputs": []
    },
    {
      "cell_type": "code",
      "metadata": {
        "id": "fIV10_CB16U9",
        "colab": {
          "base_uri": "https://localhost:8080/",
          "height": 282
        },
        "outputId": "bc3d33fe-4226-4d6b-9049-9c9cc2f6b29c"
      },
      "source": [
        "print('Distribution of classes:')\n",
        "fig, ax = plt.subplots()\n",
        "_, counts = np.unique(merged_ds['label'], return_counts=True)\n",
        "ax.bar(classes, counts)\n",
        "ax.set_xticks(classes)\n",
        "plt.show()"
      ],
      "execution_count": null,
      "outputs": [
        {
          "output_type": "stream",
          "text": [
            "Distribution of classes:\n"
          ],
          "name": "stdout"
        },
        {
          "output_type": "display_data",
          "data": {
            "image/png": "[encoded data removed]",
            "text/plain": [
              "<Figure size 432x288 with 1 Axes>"
            ]
          },
          "metadata": {
            "tags": [],
            "needs_background": "light"
          }
        }
      ]
    }
  ]
}